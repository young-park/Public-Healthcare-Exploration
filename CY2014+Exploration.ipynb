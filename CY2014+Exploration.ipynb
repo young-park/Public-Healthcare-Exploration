{
 "cells": [
  {
   "cell_type": "code",
   "execution_count": 7,
   "metadata": {
    "collapsed": false,
    "scrolled": true
   },
   "outputs": [
    {
     "name": "stdout",
     "output_type": "stream",
     "text": [
      "Total rows: 986677\n",
      "['npi', 'nppes_provider_last_org_name', 'nppes_provider_first_name', 'nppes_provider_mi', 'nppes_credentials', 'nppes_provider_gender', 'nppes_entity_code', 'nppes_provider_street1', 'nppes_provider_street2', 'nppes_provider_city', 'nppes_provider_zip', 'nppes_provider_state', 'nppes_provider_country', 'provider_type', 'medicare_participation_indicator', 'number_of_hcpcs', 'total_services', 'total_unique_benes', 'total_submitted_chrg_amt', 'total_medicare_allowed_amt', 'total_medicare_payment_amt', 'total_medicare_stnd_amt', 'drug_suppress_indicator', 'number_of_drug_hcpcs', 'total_drug_services', 'total_drug_unique_benes', 'total_drug_submitted_chrg_amt', 'total_drug_medicare_allowed_amt', 'total_drug_medicare_payment_amt', 'total_drug_medicare_stnd_amt', 'med_suppress_indicator', 'number_of_med_hcpcs', 'total_med_services', 'total_med_unique_benes', 'total_med_submitted_chrg_amt', 'total_med_medicare_allowed_amt', 'total_med_medicare_payment_amt', 'total_med_medicare_stnd_amt', 'beneficiary_average_age', 'beneficiary_age_less_65_count', 'beneficiary_age_65_74_count', 'beneficiary_age_75_84_count', 'beneficiary_age_greater_84_count', 'beneficiary_female_count', 'beneficiary_male_count', 'beneficiary_race_white_count', 'beneficiary_race_black_count', 'beneficiary_race_api_count', 'beneficiary_race_hispanic_count', 'beneficiary_race_natind_count', 'beneficiary_race_other_count', 'beneficiary_nondual_count', 'beneficiary_dual_count', 'beneficiary_cc_afib_percent', 'beneficiary_cc_alzrdsd_percent', 'beneficiary_cc_asthma_percent', 'beneficiary_cc_cancer_percent', 'beneficiary_cc_chf_percent', 'beneficiary_cc_ckd_percent', 'beneficiary_cc_copd_percent', 'beneficiary_cc_depr_percent', 'beneficiary_cc_diab_percent', 'beneficiary_cc_hyperl_percent', 'beneficiary_cc_hypert_percent', 'beneficiary_cc_ihd_percent', 'beneficiary_cc_ost_percent', 'beneficiary_cc_raoa_percent', 'beneficiary_cc_schiot_percent', 'beneficiary_cc_strk_percent', 'Beneficiary_Average_Risk_Score']\n"
     ]
    }
   ],
   "source": [
    "# Understand the number of rows and headers in original file\n",
    "import pandas as pd\n",
    "# Read the file\n",
    "data = pd.read_table(\"CY2014.txt\", low_memory=False)\n",
    "# Output the number of rows\n",
    "print(\"Total rows: {0}\".format(len(data)))\n",
    "# See which headers are available\n",
    "print(list(data))"
   ]
  },
  {
   "cell_type": "code",
   "execution_count": 8,
   "metadata": {
    "collapsed": false
   },
   "outputs": [
    {
     "name": "stdout",
     "output_type": "stream",
     "text": [
      "\n",
      "total charged greater than $10m\n",
      "-------------\n",
      "total charged greater than $10m: 1517\n"
     ]
    }
   ],
   "source": [
    "# Quick test to see if I can run simple descriptive stats on the data\n",
    "print(\"\\ntotal charged greater than $10m\")\n",
    "print(\"-------------\")\n",
    "\n",
    "# charged amounts greater than $10m\n",
    "test_charg_amt = data[data.total_submitted_chrg_amt > 10000000]\n",
    "print(\"total charged greater than $10m: {0}\".format(\n",
    "    len(test_charg_amt)))"
   ]
  },
  {
   "cell_type": "code",
   "execution_count": 23,
   "metadata": {
    "collapsed": false
   },
   "outputs": [],
   "source": [
    "# hopefully random sample 5% of original dataset so I can run analyses on Jupyter NBs with my current memory setup\n",
    "\n",
    "import pandas as pd\n",
    "from pandas import DataFrame\n",
    "\n",
    "# Create a Pandas dataframe from CY2014 and randomly sample 5% of your dataframe\n",
    "df = pd.DataFrame(data.sample(frac=0.05))\n",
    "\n",
    "# Create a Pandas Excel writer using XlsxWriter as the engine.\n",
    "writer = pd.ExcelWriter('cy2014sample.xlsx', engine='xlsxwriter')\n",
    "\n",
    "# Convert the dataframe to an XlsxWriter Excel object.\n",
    "df.to_excel(writer, sheet_name='Sheet1')\n",
    "\n",
    "# Close the Pandas Excel writer and output the Excel file.\n",
    "writer.save()\n",
    "\n"
   ]
  },
  {
   "cell_type": "code",
   "execution_count": 28,
   "metadata": {
    "collapsed": false
   },
   "outputs": [
    {
     "name": "stdout",
     "output_type": "stream",
     "text": [
      "Total rows: 49334\n",
      "[u'npi', u'nppes_provider_last_org_name', u'nppes_provider_first_name', u'nppes_provider_mi', u'nppes_credentials', u'nppes_provider_gender', u'nppes_entity_code', u'nppes_provider_street1', u'nppes_provider_street2', u'nppes_provider_city', u'nppes_provider_zip', u'nppes_provider_state', u'nppes_provider_country', u'provider_type', u'medicare_participation_indicator', u'number_of_hcpcs', u'total_services', u'total_unique_benes', u'total_submitted_chrg_amt', u'total_medicare_allowed_amt', u'total_medicare_payment_amt', u'total_medicare_stnd_amt', u'drug_suppress_indicator', u'number_of_drug_hcpcs', u'total_drug_services', u'total_drug_unique_benes', u'total_drug_submitted_chrg_amt', u'total_drug_medicare_allowed_amt', u'total_drug_medicare_payment_amt', u'total_drug_medicare_stnd_amt', u'med_suppress_indicator', u'number_of_med_hcpcs', u'total_med_services', u'total_med_unique_benes', u'total_med_submitted_chrg_amt', u'total_med_medicare_allowed_amt', u'total_med_medicare_payment_amt', u'total_med_medicare_stnd_amt', u'beneficiary_average_age', u'beneficiary_age_less_65_count', u'beneficiary_age_65_74_count', u'beneficiary_age_75_84_count', u'beneficiary_age_greater_84_count', u'beneficiary_female_count', u'beneficiary_male_count', u'beneficiary_race_white_count', u'beneficiary_race_black_count', u'beneficiary_race_api_count', u'beneficiary_race_hispanic_count', u'beneficiary_race_natind_count', u'beneficiary_race_other_count', u'beneficiary_nondual_count', u'beneficiary_dual_count', u'beneficiary_cc_afib_percent', u'beneficiary_cc_alzrdsd_percent', u'beneficiary_cc_asthma_percent', u'beneficiary_cc_cancer_percent', u'beneficiary_cc_chf_percent', u'beneficiary_cc_ckd_percent', u'beneficiary_cc_copd_percent', u'beneficiary_cc_depr_percent', u'beneficiary_cc_diab_percent', u'beneficiary_cc_hyperl_percent', u'beneficiary_cc_hypert_percent', u'beneficiary_cc_ihd_percent', u'beneficiary_cc_ost_percent', u'beneficiary_cc_raoa_percent', u'beneficiary_cc_schiot_percent', u'beneficiary_cc_strk_percent', u'Beneficiary_Average_Risk_Score']\n"
     ]
    }
   ],
   "source": [
    "# Check to see the sampling worked; still unsure of randomness\n",
    "import pandas as pd\n",
    "# Read the file\n",
    "data2 = pd.read_excel(\"cy2014sample.xlsx\")\n",
    "# Output the number of rows\n",
    "print(\"Total rows: {0}\".format(len(data2)))\n",
    "# See which headers are available\n",
    "print(list(data2))"
   ]
  },
  {
   "cell_type": "code",
   "execution_count": null,
   "metadata": {
    "collapsed": true
   },
   "outputs": [],
   "source": []
  }
 ],
 "metadata": {
  "kernelspec": {
   "display_name": "Python 2",
   "language": "python",
   "name": "python2"
  },
  "language_info": {
   "codemirror_mode": {
    "name": "ipython",
    "version": 2
   },
   "file_extension": ".py",
   "mimetype": "text/x-python",
   "name": "python",
   "nbconvert_exporter": "python",
   "pygments_lexer": "ipython2",
   "version": "2.7.13"
  }
 },
 "nbformat": 4,
 "nbformat_minor": 2
}
